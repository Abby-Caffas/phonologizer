{
 "cells": [
  {
   "cell_type": "code",
   "execution_count": 28,
   "metadata": {},
   "outputs": [],
   "source": [
    "import pandas as pd\n",
    "import re\n",
    "\n",
    "from IPython.core.interactiveshell import InteractiveShell\n",
    "InteractiveShell.ast_node_interactivity = \"all\""
   ]
  },
  {
   "cell_type": "code",
   "execution_count": 29,
   "metadata": {},
   "outputs": [
    {
     "data": {
      "text/html": [
       "<div>\n",
       "<style scoped>\n",
       "    .dataframe tbody tr th:only-of-type {\n",
       "        vertical-align: middle;\n",
       "    }\n",
       "\n",
       "    .dataframe tbody tr th {\n",
       "        vertical-align: top;\n",
       "    }\n",
       "\n",
       "    .dataframe thead th {\n",
       "        text-align: right;\n",
       "    }\n",
       "</style>\n",
       "<table border=\"1\" class=\"dataframe\">\n",
       "  <thead>\n",
       "    <tr style=\"text-align: right;\">\n",
       "      <th></th>\n",
       "      <th>nom sg</th>\n",
       "      <th>loc sg</th>\n",
       "      <th>dat sg</th>\n",
       "      <th>dat pl</th>\n",
       "    </tr>\n",
       "  </thead>\n",
       "  <tbody>\n",
       "    <tr>\n",
       "      <th>0</th>\n",
       "      <td>zub</td>\n",
       "      <td>zubi</td>\n",
       "      <td>zubovi</td>\n",
       "      <td>zubam</td>\n",
       "    </tr>\n",
       "    <tr>\n",
       "      <th>1</th>\n",
       "      <td>svit</td>\n",
       "      <td>sviti</td>\n",
       "      <td>svitovi</td>\n",
       "      <td>svitam</td>\n",
       "    </tr>\n",
       "    <tr>\n",
       "      <th>2</th>\n",
       "      <td>zat</td>\n",
       "      <td>zatevi</td>\n",
       "      <td>zatevi</td>\n",
       "      <td>zatam</td>\n",
       "    </tr>\n",
       "    <tr>\n",
       "      <th>3</th>\n",
       "      <td>koʃil</td>\n",
       "      <td>koʃeli</td>\n",
       "      <td>koʃelevi</td>\n",
       "      <td>koʃelam</td>\n",
       "    </tr>\n",
       "    <tr>\n",
       "      <th>4</th>\n",
       "      <td>zlodij</td>\n",
       "      <td>zlodijevi</td>\n",
       "      <td>zlodijevi</td>\n",
       "      <td>zlodijam</td>\n",
       "    </tr>\n",
       "    <tr>\n",
       "      <th>5</th>\n",
       "      <td>misat</td>\n",
       "      <td>misati</td>\n",
       "      <td>misatevi</td>\n",
       "      <td>misatam</td>\n",
       "    </tr>\n",
       "    <tr>\n",
       "      <th>6</th>\n",
       "      <td>korovaj</td>\n",
       "      <td>korovaji</td>\n",
       "      <td>korovajevi</td>\n",
       "      <td>korovajam</td>\n",
       "    </tr>\n",
       "    <tr>\n",
       "      <th>7</th>\n",
       "      <td>kamin</td>\n",
       "      <td>kameni</td>\n",
       "      <td>kamenevi</td>\n",
       "      <td>kamenam</td>\n",
       "    </tr>\n",
       "    <tr>\n",
       "      <th>8</th>\n",
       "      <td>mid</td>\n",
       "      <td>midi</td>\n",
       "      <td>midevi</td>\n",
       "      <td>midam</td>\n",
       "    </tr>\n",
       "    <tr>\n",
       "      <th>9</th>\n",
       "      <td>xliw</td>\n",
       "      <td>xlivi</td>\n",
       "      <td>xlivovi</td>\n",
       "      <td>xlivam</td>\n",
       "    </tr>\n",
       "    <tr>\n",
       "      <th>10</th>\n",
       "      <td>holub</td>\n",
       "      <td>holubi</td>\n",
       "      <td>holubovi</td>\n",
       "      <td>holubam</td>\n",
       "    </tr>\n",
       "    <tr>\n",
       "      <th>11</th>\n",
       "      <td>sin</td>\n",
       "      <td>sinovi</td>\n",
       "      <td>sinovi</td>\n",
       "      <td>sinam</td>\n",
       "    </tr>\n",
       "    <tr>\n",
       "      <th>12</th>\n",
       "      <td>lebid</td>\n",
       "      <td>lebedi</td>\n",
       "      <td>lebedevi</td>\n",
       "      <td>lebedam</td>\n",
       "    </tr>\n",
       "    <tr>\n",
       "      <th>13</th>\n",
       "      <td>susid</td>\n",
       "      <td>susidovi</td>\n",
       "      <td>susidovi</td>\n",
       "      <td>susidam</td>\n",
       "    </tr>\n",
       "    <tr>\n",
       "      <th>14</th>\n",
       "      <td>t͡ʃolovik</td>\n",
       "      <td>t͡ʃolovikovi</td>\n",
       "      <td>t͡ʃolovikovi</td>\n",
       "      <td>t͡ʃolovikam</td>\n",
       "    </tr>\n",
       "    <tr>\n",
       "      <th>15</th>\n",
       "      <td>lid</td>\n",
       "      <td>ledi</td>\n",
       "      <td>ledovi</td>\n",
       "      <td>ledam</td>\n",
       "    </tr>\n",
       "    <tr>\n",
       "      <th>16</th>\n",
       "      <td>bil</td>\n",
       "      <td>boli</td>\n",
       "      <td>bolevi</td>\n",
       "      <td>bolam</td>\n",
       "    </tr>\n",
       "    <tr>\n",
       "      <th>17</th>\n",
       "      <td>riw</td>\n",
       "      <td>rovi</td>\n",
       "      <td>rovovi</td>\n",
       "      <td>rovam</td>\n",
       "    </tr>\n",
       "    <tr>\n",
       "      <th>18</th>\n",
       "      <td>stiw</td>\n",
       "      <td>stoli</td>\n",
       "      <td>stolovi</td>\n",
       "      <td>stolam</td>\n",
       "    </tr>\n",
       "    <tr>\n",
       "      <th>19</th>\n",
       "      <td>did</td>\n",
       "      <td>didovi</td>\n",
       "      <td>didovi</td>\n",
       "      <td>didam</td>\n",
       "    </tr>\n",
       "    <tr>\n",
       "      <th>20</th>\n",
       "      <td>lit</td>\n",
       "      <td>loti</td>\n",
       "      <td>lotovi</td>\n",
       "      <td>lotam</td>\n",
       "    </tr>\n",
       "    <tr>\n",
       "      <th>21</th>\n",
       "      <td>mist</td>\n",
       "      <td>mosti</td>\n",
       "      <td>mostovi</td>\n",
       "      <td>mostam</td>\n",
       "    </tr>\n",
       "    <tr>\n",
       "      <th>22</th>\n",
       "      <td>vet͡ʃir</td>\n",
       "      <td>vet͡ʃori</td>\n",
       "      <td>vet͡ʃorovi</td>\n",
       "      <td>vet͡ʃoram</td>\n",
       "    </tr>\n",
       "  </tbody>\n",
       "</table>\n",
       "</div>"
      ],
      "text/plain": [
       "       nom sg        loc sg        dat sg       dat pl\n",
       "0         zub          zubi        zubovi        zubam\n",
       "1        svit         sviti       svitovi       svitam\n",
       "2         zat        zatevi        zatevi        zatam\n",
       "3       koʃil        koʃeli      koʃelevi      koʃelam\n",
       "4      zlodij     zlodijevi     zlodijevi     zlodijam\n",
       "5       misat        misati      misatevi      misatam\n",
       "6     korovaj      korovaji    korovajevi    korovajam\n",
       "7       kamin        kameni      kamenevi      kamenam\n",
       "8         mid          midi        midevi        midam\n",
       "9        xliw         xlivi       xlivovi       xlivam\n",
       "10      holub        holubi      holubovi      holubam\n",
       "11        sin        sinovi        sinovi        sinam\n",
       "12      lebid        lebedi      lebedevi      lebedam\n",
       "13      susid      susidovi      susidovi      susidam\n",
       "14  t͡ʃolovik  t͡ʃolovikovi  t͡ʃolovikovi  t͡ʃolovikam\n",
       "15        lid          ledi        ledovi        ledam\n",
       "16        bil          boli        bolevi        bolam\n",
       "17        riw          rovi        rovovi        rovam\n",
       "18       stiw         stoli       stolovi       stolam\n",
       "19        did        didovi        didovi        didam\n",
       "20        lit          loti        lotovi        lotam\n",
       "21       mist         mosti       mostovi       mostam\n",
       "22    vet͡ʃir      vet͡ʃori    vet͡ʃorovi    vet͡ʃoram"
      ]
     },
     "execution_count": 29,
     "metadata": {},
     "output_type": "execute_result"
    }
   ],
   "source": [
    "ukrainian = pd.read_excel('data//Ukrainian.xlsx') # header = none\n",
    "ukrainian"
   ]
  },
  {
   "cell_type": "code",
   "execution_count": 5,
   "metadata": {},
   "outputs": [
    {
     "name": "stdout",
     "output_type": "stream",
     "text": [
      "n:\n",
      "{'__h', '__d', '__w', '__j'}\n",
      "\n",
      "m:\n",
      "{'__b'}\n",
      "\n",
      "ŋ:\n",
      "{'__g'}\n",
      "\n",
      "ɲ:\n",
      "{'__d'}\n",
      "\n"
     ]
    }
   ],
   "source": []
  },
  {
   "cell_type": "code",
   "execution_count": null,
   "metadata": {},
   "outputs": [],
   "source": []
  },
  {
   "cell_type": "code",
   "execution_count": 26,
   "metadata": {},
   "outputs": [
    {
     "data": {
      "text/plain": [
       "[['wa', 'nw'],\n",
       " ['di', 'nd'],\n",
       " ['bu', 'mb'],\n",
       " ['pa', 'mb'],\n",
       " ['ka', 'ŋg'],\n",
       " ['ta', 'nd'],\n",
       " ['fa', 'fa'],\n",
       " ['ʃa', 'ʃa'],\n",
       " ['hu', 'nh'],\n",
       " ['jo', 'nj'],\n",
       " ['ga', 'ŋg'],\n",
       " ['pl', 'mb'],\n",
       " ['tʃ', 'ɲd'],\n",
       " ['ti', 'nd'],\n",
       " ['sə', 'sə'],\n",
       " ['la', 'la']]"
      ]
     },
     "execution_count": 26,
     "metadata": {},
     "output_type": "execute_result"
    }
   ],
   "source": [
    "[[x[:2] for x in b] for a, b in zoque.iterrows()]"
   ]
  },
  {
   "cell_type": "code",
   "execution_count": 6,
   "metadata": {},
   "outputs": [
    {
     "data": {
      "text/plain": [
       "{'__d', '__h', '__j', '__w'}"
      ]
     },
     "execution_count": 6,
     "metadata": {},
     "output_type": "execute_result"
    }
   ],
   "source": [
    "word_initial = 'n'\n",
    "set([('__' + z[1]) for z in zoque['my noun'] if z[0] == word_initial])"
   ]
  },
  {
   "cell_type": "code",
   "execution_count": 7,
   "metadata": {},
   "outputs": [
    {
     "data": {
      "text/plain": [
       "{'__b'}"
      ]
     },
     "execution_count": 7,
     "metadata": {},
     "output_type": "execute_result"
    }
   ],
   "source": [
    "word_initial = 'm'\n",
    "set([('__' + z[1]) for z in zoque['my noun'] if z[0] == word_initial])"
   ]
  },
  {
   "cell_type": "code",
   "execution_count": 8,
   "metadata": {},
   "outputs": [
    {
     "data": {
      "text/plain": [
       "{'__g'}"
      ]
     },
     "execution_count": 8,
     "metadata": {},
     "output_type": "execute_result"
    }
   ],
   "source": [
    "word_initial = 'ŋ'\n",
    "set([('__' + z[1]) for z in zoque['my noun'] if z[0] == word_initial])"
   ]
  },
  {
   "cell_type": "code",
   "execution_count": null,
   "metadata": {},
   "outputs": [],
   "source": [
    "no_prefix = ['f','ʃ','s','l' ]"
   ]
  },
  {
   "cell_type": "code",
   "execution_count": 9,
   "metadata": {},
   "outputs": [
    {
     "name": "stdout",
     "output_type": "stream",
     "text": [
      "{'__l', '__ʃ', '__f', '__s'}\n"
     ]
    }
   ],
   "source": [
    "    print(set([('__' + z[0]) for z in zoque['my noun'] if z[0] not in test_letters]))\n"
   ]
  },
  {
   "cell_type": "code",
   "execution_count": null,
   "metadata": {},
   "outputs": [],
   "source": []
  }
 ],
 "metadata": {
  "kernelspec": {
   "display_name": "Python 3",
   "language": "python",
   "name": "python3"
  },
  "language_info": {
   "codemirror_mode": {
    "name": "ipython",
    "version": 3
   },
   "file_extension": ".py",
   "mimetype": "text/x-python",
   "name": "python",
   "nbconvert_exporter": "python",
   "pygments_lexer": "ipython3",
   "version": "3.8.5"
  }
 },
 "nbformat": 4,
 "nbformat_minor": 4
}
